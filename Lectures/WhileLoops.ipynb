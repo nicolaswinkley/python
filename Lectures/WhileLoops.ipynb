{
 "cells": [
  {
   "cell_type": "code",
   "execution_count": null,
   "metadata": {},
   "outputs": [],
   "source": [
    "# While loops will continue to execute a block of code while some condition remains True\n",
    "# For example, while my pool is not full, fill with water\n",
    "# while some_boolean_consition\n",
    "    # do something\n",
    "# else: \n",
    "    # do something else"
   ]
  },
  {
   "cell_type": "code",
   "execution_count": 3,
   "metadata": {},
   "outputs": [
    {
     "output_type": "stream",
     "name": "stdout",
     "text": "The current value of x is 0\nThe current value of x is 1\nThe current value of x is 2\nThe current value of x is 3\nThe current value of x is 4\nx is not less than 5\n"
    }
   ],
   "source": [
    "x = 0\n",
    "while x < 5: \n",
    "    print(f'The current value of x is {x}')\n",
    "    x += 1\n",
    "else: \n",
    "    print('x is not less than 5')"
   ]
  },
  {
   "cell_type": "code",
   "execution_count": 4,
   "metadata": {},
   "outputs": [],
   "source": [
    "# break, continue, pass\n",
    "# break: breaks out of the current enclosing loop\n",
    "# continue: Goes to the top of the closest enclosing loop\n",
    "# pass: does nothing at all\n"
   ]
  },
  {
   "cell_type": "code",
   "execution_count": 5,
   "metadata": {},
   "outputs": [
    {
     "output_type": "stream",
     "name": "stdout",
     "text": "end of script\n"
    }
   ],
   "source": [
    "x = [1,2,3]\n",
    "for item in x:\n",
    "    # placeholder\n",
    "    pass\n",
    "print('end of script')\n"
   ]
  },
  {
   "cell_type": "code",
   "execution_count": 6,
   "metadata": {},
   "outputs": [
    {
     "output_type": "stream",
     "name": "stdout",
     "text": "N\nc\nk\n"
    }
   ],
   "source": [
    "mystring = 'Nick'\n",
    "for letter in mystring:\n",
    "    if letter == 'i':\n",
    "        # go back to top of loop\n",
    "        continue\n",
    "    print(letter)"
   ]
  },
  {
   "cell_type": "code",
   "execution_count": 8,
   "metadata": {},
   "outputs": [
    {
     "output_type": "stream",
     "name": "stdout",
     "text": "0\n1\n"
    }
   ],
   "source": [
    "x = 0\n",
    "while x < 5:\n",
    "    if x == 2:\n",
    "        break\n",
    "    print(x)\n",
    "    x += 1 "
   ]
  },
  {
   "cell_type": "code",
   "execution_count": null,
   "metadata": {},
   "outputs": [],
   "source": []
  }
 ],
 "metadata": {
  "language_info": {
   "codemirror_mode": {
    "name": "ipython",
    "version": 3
   },
   "file_extension": ".py",
   "mimetype": "text/x-python",
   "name": "python",
   "nbconvert_exporter": "python",
   "pygments_lexer": "ipython3",
   "version": "3.8.2-final"
  },
  "orig_nbformat": 2,
  "kernelspec": {
   "name": "python38264bita42f2bc0cc43482292292fa98c7d38c5",
   "display_name": "Python 3.8.2 64-bit"
  }
 },
 "nbformat": 4,
 "nbformat_minor": 2
}