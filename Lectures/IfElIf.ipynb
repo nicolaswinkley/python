{
 "cells": [
  {
   "cell_type": "code",
   "execution_count": 1,
   "metadata": {},
   "outputs": [
    {
     "output_type": "stream",
     "name": "stdout",
     "text": "It's True\n"
    }
   ],
   "source": [
    "if True: \n",
    "    print(\"It's True\")"
   ]
  },
  {
   "cell_type": "code",
   "execution_count": 2,
   "metadata": {},
   "outputs": [
    {
     "output_type": "stream",
     "name": "stdout",
     "text": "It's True\n"
    }
   ],
   "source": [
    "if 3>2:\n",
    "    print(\"It's True\")"
   ]
  },
  {
   "cell_type": "code",
   "execution_count": 4,
   "metadata": {},
   "outputs": [
    {
     "output_type": "stream",
     "name": "stdout",
     "text": "Feed me\n"
    }
   ],
   "source": [
    "hungry = True\n",
    "\n",
    "if hungry:\n",
    "    print(\"Feed me\")\n",
    "else:\n",
    "    print(\"not hungry\")"
   ]
  },
  {
   "cell_type": "code",
   "execution_count": 6,
   "metadata": {},
   "outputs": [
    {
     "output_type": "stream",
     "name": "stdout",
     "text": "i do not know much\n"
    }
   ],
   "source": [
    "loc = 'n'\n",
    "if loc == 'auto shop':\n",
    "    print('cars are cool')\n",
    "elif loc == 'bank':\n",
    "    print('money is cool')\n",
    "elif loc == 'store':\n",
    "    print('store is cool')\n",
    "else:\n",
    "    print('i do not know much')"
   ]
  },
  {
   "cell_type": "code",
   "execution_count": null,
   "metadata": {},
   "outputs": [],
   "source": []
  }
 ],
 "metadata": {
  "language_info": {
   "codemirror_mode": {
    "name": "ipython",
    "version": 3
   },
   "file_extension": ".py",
   "mimetype": "text/x-python",
   "name": "python",
   "nbconvert_exporter": "python",
   "pygments_lexer": "ipython3",
   "version": "3.8.2-final"
  },
  "orig_nbformat": 2,
  "kernelspec": {
   "name": "python38264bita42f2bc0cc43482292292fa98c7d38c5",
   "display_name": "Python 3.8.2 64-bit"
  }
 },
 "nbformat": 4,
 "nbformat_minor": 2
}